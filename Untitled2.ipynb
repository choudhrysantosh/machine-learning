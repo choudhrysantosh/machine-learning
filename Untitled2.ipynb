{
 "cells": [
  {
   "cell_type": "markdown",
   "metadata": {},
   "source": [
    "# Assignment 4"
   ]
  },
  {
   "cell_type": "markdown",
   "metadata": {},
   "source": [
    "1.1 Write a Python Program(with class concepts) to find the area of the triangle using the below\n",
    "formula.\n",
    "area = (s*(s-a)*(s-b)*(s-c)) ** 0.5\n",
    "Function to take the length of the sides of triangle from user should be defined in the parent\n",
    "class and function to calculate the area should be defined in subclass."
   ]
  },
  {
   "cell_type": "code",
   "execution_count": 3,
   "metadata": {},
   "outputs": [
    {
     "name": "stdout",
     "output_type": "stream",
     "text": [
      "Enter your first side:45\n",
      "Enter your second side:45\n",
      "Enter your third side:45\n",
      "Area of trinagle is: 876.8507213317441\n"
     ]
    }
   ],
   "source": [
    "#parent class to take the input from the console\n",
    "class parent:\n",
    "    def __init__(self):\n",
    "        side1=int(input(\"Enter your first side:\"))\n",
    "        self.side1=side1\n",
    "        side2 = int(input(\"Enter your second side:\"))\n",
    "        self.side2=side2\n",
    "        side3 = int(input(\"Enter your third side:\"))\n",
    "        selhttp://localhost:8888/notebooks/Untitled2.ipynb?kernel_name=python3#f.side3=side3\n",
    "#chil class to calculate the area of trinagle\n",
    "class child(parent):\n",
    "    def area(self):\n",
    "        S=(self.side1+self.side2+self.side3)/2\n",
    "\n",
    "        area=(S*(S-self.side1)*(S-self.side2)*(S-self.side3))**(0.5)\n",
    "        print(\"Area of trinagle is:\",area)\n",
    "#creation of object of child class it also initializes thr object using the constructor\n",
    "obj=child()\n",
    "#calling of area method\n",
    "obj.area()\n"
   ]
  },
  {
   "cell_type": "markdown",
   "metadata": {},
   "source": [
    "1.2 Write a function filter_long_words() that takes a list of words and an integer n and returns\n",
    "the list of words that are longer than n."
   ]
  },
  {
   "cell_type": "code",
   "execution_count": 4,
   "metadata": {},
   "outputs": [
    {
     "name": "stdout",
     "output_type": "stream",
     "text": [
      "['santy', 'mohit', 'choudhry']\n"
     ]
    }
   ],
   "source": [
    "#funtion which returns the list of words having length more than that of number\n",
    "def filter_long_words(list,num):\n",
    "    A=[]\n",
    "    for i in list:\n",
    "        if len(i)>num:\n",
    "            A.append(i)\n",
    "    return A\n",
    "\n",
    "list1=[\"santy\",\"mohit\",\"sita\",\"tri\",\"meh\",\"choudhry\"]\n",
    "\n",
    "#calling of funtion with a list and a number =4\n",
    "A1=filter_long_words(list1,4)\n",
    "\n",
    "#print the returned list of words having length greater than the number\n",
    "print(A1)\n"
   ]
  },
  {
   "cell_type": "markdown",
   "metadata": {},
   "source": [
    "2.1 Write a Python program using function concept that maps list of words into a list of integers\n",
    "representing the lengths of the corresponding words.\n",
    "Hint: If a list [ ab,cde,erty] is passed on to the python function output should come as [2,3,4]\n",
    "Here 2,3 and 4 are the lengths of the words in the list."
   ]
  },
  {
   "cell_type": "code",
   "execution_count": 5,
   "metadata": {},
   "outputs": [
    {
     "name": "stdout",
     "output_type": "stream",
     "text": [
      "[2, 3, 4]\n"
     ]
    }
   ],
   "source": [
    "#funtion to map the list of words with their length\n",
    "def map_list(list):\n",
    "    A=[]\n",
    "    for i in list:\n",
    "        A.append(len(i))\n",
    "\n",
    "    return A\n",
    "\n",
    "list1=[\"ab\",\"cde\",\"erty\"]\n",
    "\n",
    "#calling of functon\n",
    "A1=map_list(list1)\n",
    "\n",
    "#printing the mapped list\n",
    "print(A1)"
   ]
  },
  {
   "cell_type": "markdown",
   "metadata": {},
   "source": [
    "2.2 Write a Python function which takes a character (i.e. a string of length 1) and returns True if\n",
    "it is a vowel, False otherwise."
   ]
  },
  {
   "cell_type": "code",
   "execution_count": 6,
   "metadata": {},
   "outputs": [
    {
     "name": "stdout",
     "output_type": "stream",
     "text": [
      "Enter your character:A\n",
      "True\n"
     ]
    }
   ],
   "source": [
    "#funtion of checking vowel\n",
    "def checking_vowel(char):\n",
    "    if char=='a' or char==\"e\" or char==\"i\" or char==\"o\" or char==\"u\" or char==\"A\" or char==\"E\" or char==\"I\" or char==\"O\" or char==\"U\":\n",
    "        return True\n",
    "    else:\n",
    "        return False\n",
    "\n",
    "#taking input character from the user\n",
    "c=input(\"Enter your character:\")\n",
    "\n",
    "#calling the function\n",
    "result=checking_vowel(c)\n",
    "\n",
    "#print the result\n",
    "print(result)"
   ]
  }
 ],
 "metadata": {
  "kernelspec": {
   "display_name": "Python 3",
   "language": "python",
   "name": "python3"
  },
  "language_info": {
   "codemirror_mode": {
    "name": "ipython",
    "version": 3
   },
   "file_extension": ".py",
   "mimetype": "text/x-python",
   "name": "python",
   "nbconvert_exporter": "python",
   "pygments_lexer": "ipython3",
   "version": "3.7.6"
  }
 },
 "nbformat": 4,
 "nbformat_minor": 4
}

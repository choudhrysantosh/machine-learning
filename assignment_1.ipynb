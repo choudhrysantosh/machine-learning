{
 "cells": [
  {
   "cell_type": "markdown",
   "metadata": {},
   "source": [
    "# Assignment 1"
   ]
  },
  {
   "cell_type": "markdown",
   "metadata": {},
   "source": [
    "Q.1 Write a program which will find all such numbers which are divisible by 7 but are not a multiple\n",
    "of 5, between 2000 and 3200 (both included). The numbers obtained should be printed in a\n",
    "comma-separated sequence on a single line."
   ]
  },
  {
   "cell_type": "code",
   "execution_count": 1,
   "metadata": {},
   "outputs": [
    {
     "name": "stdout",
     "output_type": "stream",
     "text": [
      "2030,2065,2100,2135,2170,2205,2240,2275,2310,2345,2380,2415,2450,2485,2520,2555,2590,2625,2660,2695,2730,2765,2800,2835,2870,2905,2940,2975,3010,3045,3080,3115,3150,3185\n"
     ]
    }
   ],
   "source": [
    "#empty list\n",
    "A=[]\n",
    "\n",
    "#loop which itrates from 2000 tp 3200\n",
    "for i in range(2000,3201):\n",
    "    if i%7==0 and i%5==0:\n",
    "        A.append(str(i))\n",
    "\n",
    "\"\"\"performing joining operation between the elements\n",
    "of list and s to get a resultant string with commas\n",
    "in between the list elements\"\"\"\n",
    "t=\",\"\n",
    "result=t.join(A)\n",
    "print(result)"
   ]
  },
  {
   "cell_type": "markdown",
   "metadata": {},
   "source": [
    "Q.2 Write a Python program to accept the user's first and last name and then getting them printed in\n",
    "the the reverse order with a space between first name and last name."
   ]
  },
  {
   "cell_type": "code",
   "execution_count": 2,
   "metadata": {},
   "outputs": [
    {
     "name": "stdout",
     "output_type": "stream",
     "text": [
      "Enter your first name:santosh\n",
      "Enter your last name:kumar\n",
      "kumar santosh\n"
     ]
    }
   ],
   "source": [
    "#getting input name from the console\n",
    "f_name=input(\"Enter your first name:\")\n",
    "l_name=input(\"Enter your last name:\")\n",
    "\n",
    "#printing them in reverse order with a space between thems\n",
    "print(l_name,f_name)"
   ]
  },
  {
   "cell_type": "markdown",
   "metadata": {},
   "source": [
    "Q.3 Write a Python program to find the volume of a sphere with diameter 12 cm.\n",
    "Formula: V=4/3 * π * r**3"
   ]
  },
  {
   "cell_type": "code",
   "execution_count": 3,
   "metadata": {},
   "outputs": [
    {
     "name": "stdout",
     "output_type": "stream",
     "text": [
      "Enter the radius of sphere:12\n",
      "Volume of sphere is: 7234.5599999999995\n"
     ]
    }
   ],
   "source": [
    "#taking radius of sphere as input\n",
    "S_radius=float(input(\"Enter the radius of sphere:\"))\n",
    "\n",
    "#applyiny formula\n",
    "volume=(4/3)*(3.14)*(S_radius**3)\n",
    "\n",
    "#printing the calculated volume\n",
    "print(\"Volume of sphere is:\",volume)"
   ]
  },
  {
   "cell_type": "markdown",
   "metadata": {},
   "source": [
    "Q.4 Write a program which accepts a sequence of comma-separated numbers from console and\n",
    "generate a list."
   ]
  },
  {
   "cell_type": "code",
   "execution_count": 4,
   "metadata": {},
   "outputs": [
    {
     "name": "stdout",
     "output_type": "stream",
     "text": [
      "Enter your numbers:4,1,5,2,7,8,6,3,7,45,25\n",
      "['4', '1', '5', '2', '7', '8', '6', '3', '7', '45', '25']\n"
     ]
    }
   ],
   "source": [
    "#taking string of numbers seperaded with commas as an input\n",
    "str=input(\"Enter your numbers:\")\n",
    "\n",
    "#spliting that string into set of strings or a list(separation is done after every,)\n",
    "list=str.split(\",\")\n",
    "\n",
    "#printing the list\n",
    "print(list)"
   ]
  },
  {
   "cell_type": "markdown",
   "metadata": {},
   "source": [
    "Q.5 Create the below pattern using nested for loop in Python.\n",
    "\n",
    "*\n",
    "* *\n",
    "* * *\n",
    "* * * *\n",
    "* * * * *\n",
    "* * * *\n",
    "* * *\n",
    "* *\n",
    "*"
   ]
  },
  {
   "cell_type": "code",
   "execution_count": 6,
   "metadata": {},
   "outputs": [
    {
     "name": "stdout",
     "output_type": "stream",
     "text": [
      "* \n",
      "* * \n",
      "* * * \n",
      "* * * * \n",
      "* * * * * \n",
      "* * * * \n",
      "* * * \n",
      "* * \n",
      "* \n"
     ]
    }
   ],
   "source": [
    "for i in range(1,10):\n",
    "    if i < 6:\n",
    "        for j in range(1,i+1):\n",
    "            print(\"*\",end=\" \")\n",
    "        print(\"\")\n",
    "    else:\n",
    "        for j in range(1,11-i):\n",
    "            print(\"*\",end=\" \")\n",
    "        print(\"\")"
   ]
  },
  {
   "cell_type": "markdown",
   "metadata": {},
   "source": [
    "Q.6 Write a Python program to reverse a word after accepting the input from the user.\n",
    "Sample Output:\n",
    "Input word: Ineuron\n",
    "Output: noruenI"
   ]
  },
  {
   "cell_type": "code",
   "execution_count": 7,
   "metadata": {},
   "outputs": [
    {
     "name": "stdout",
     "output_type": "stream",
     "text": [
      "Input word:Ineuron\n",
      "Output: noruenI\n"
     ]
    }
   ],
   "source": [
    "#input string\n",
    "str=input(\"Input word:\")\n",
    "\n",
    "#reversing the string\n",
    "str1=str[::-1]\n",
    "\n",
    "#printing the reversed string\n",
    "print(\"Output:\",str1)"
   ]
  },
  {
   "cell_type": "markdown",
   "metadata": {},
   "source": [
    "Q.7 Write a Python Program to print the given string in the format specified in the sample output.\n",
    "WE, THE PEOPLE OF INDIA, having solemnly resolved to constitute India into a\n",
    "SOVEREIGN, SOCIALIST, SECULAR, DEMOCRATIC REPUBLIC and to secure to all\n",
    "its citizens\n",
    "Sample Output:\n",
    "WE, THE PEOPLE OF INDIA,\n",
    "having solemnly resolved to constitute India into a SOVEREIGN, !\n",
    "SOCIALIST, SECULAR, DEMOCRATIC REPUBLIC\n",
    "and to secure to all its citizens"
   ]
  },
  {
   "cell_type": "code",
   "execution_count": 20,
   "metadata": {},
   "outputs": [
    {
     "name": "stdout",
     "output_type": "stream",
     "text": [
      "WE,THE PEOPLE OF INDIA,\n",
      "     having solemnly resolved to constitute India into a SOVEREIGN,!\n",
      "\t   SOCIALIST,SECULAR,DEMOCRATIC REPUBLIC\n",
      "\t    and to secure to all its citizens\n"
     ]
    }
   ],
   "source": [
    "print(\"WE,THE PEOPLE OF INDIA,\\n     having solemnly resolved to constitute India into a SOVEREIGN,!\\n\\t   SOCIALIST,SECULAR,DEMOCRATIC REPUBLIC\\n\\t    and to secure to all its citizens\")"
   ]
  }
 ],
 "metadata": {
  "kernelspec": {
   "display_name": "Python 3",
   "language": "python",
   "name": "python3"
  },
  "language_info": {
   "codemirror_mode": {
    "name": "ipython",
    "version": 3
   },
   "file_extension": ".py",
   "mimetype": "text/x-python",
   "name": "python",
   "nbconvert_exporter": "python",
   "pygments_lexer": "ipython3",
   "version": "3.7.6"
  }
 },
 "nbformat": 4,
 "nbformat_minor": 4
}
